{
 "cells": [
  {
   "cell_type": "code",
   "execution_count": 13,
   "id": "champion-cambridge",
   "metadata": {},
   "outputs": [],
   "source": [
    "#use this to have access to ksb_homology after setting up the library\n",
    "#import sys\n",
    "#sys.path.append('../')\n",
    "#sys.path.append()\n",
    "#C:\\\\Python38\\\\lib\\\\site-packages\\\\win32\n",
    "#'C:\\\\Python38\\\\lib\\\\site-packages\\\\win32\\\\lib'\n",
    "#'C:\\\\Python38\\\\lib\\\\site-packages\\\\Pythonwin'"
   ]
  },
  {
   "cell_type": "code",
   "execution_count": 15,
   "id": "suitable-facility",
   "metadata": {},
   "outputs": [
    {
     "name": "stdout",
     "output_type": "stream",
     "text": [
      "['C:\\\\Users\\\\pjnav\\\\Desktop\\\\KSB_homology\\\\notebooks', 'C:\\\\Users\\\\pjnav\\\\anaconda3\\\\python38.zip', 'C:\\\\Users\\\\pjnav\\\\anaconda3\\\\DLLs', 'C:\\\\Users\\\\pjnav\\\\anaconda3\\\\lib', 'C:\\\\Users\\\\pjnav\\\\anaconda3', '', 'C:\\\\Users\\\\pjnav\\\\AppData\\\\Roaming\\\\Python\\\\Python38\\\\site-packages', 'C:\\\\Users\\\\pjnav\\\\anaconda3\\\\lib\\\\site-packages', 'C:\\\\Users\\\\pjnav\\\\anaconda3\\\\lib\\\\site-packages\\\\win32', 'C:\\\\Users\\\\pjnav\\\\anaconda3\\\\lib\\\\site-packages\\\\win32\\\\lib', 'C:\\\\Users\\\\pjnav\\\\anaconda3\\\\lib\\\\site-packages\\\\Pythonwin', 'C:\\\\Users\\\\pjnav\\\\AppData\\\\Roaming\\\\Python\\\\Python38\\\\site-packages\\\\IPython\\\\extensions', 'C:\\\\Users\\\\pjnav\\\\.ipython', '../', '../', '../', 'C:\\\\Python38\\\\lib\\\\site-packages\\\\win32', 'C:\\\\Python38\\\\lib\\\\site-packages\\\\win32\\\\lib', 'C:\\\\Python38\\\\lib\\\\site-packages\\\\Pythonwin']\n",
      "False False\n"
     ]
    }
   ],
   "source": [
    "from ksb_homology.BSimplex import BSimplex\n",
    "\n",
    "a=BSimplex((1,2,4))\n",
    "print(a.get_simplexsize((1,2)), False)"
   ]
  },
  {
   "cell_type": "code",
   "execution_count": 3,
   "id": "expanded-style",
   "metadata": {},
   "outputs": [
    {
     "name": "stdout",
     "output_type": "stream",
     "text": [
      "1\n"
     ]
    }
   ],
   "source": [
    "print(1)"
   ]
  },
  {
   "cell_type": "code",
   "execution_count": null,
   "id": "czech-plasma",
   "metadata": {},
   "outputs": [],
   "source": []
  }
 ],
 "metadata": {
  "kernelspec": {
   "display_name": "Python 3",
   "language": "python",
   "name": "python3"
  },
  "language_info": {
   "codemirror_mode": {
    "name": "ipython",
    "version": 3
   },
   "file_extension": ".py",
   "mimetype": "text/x-python",
   "name": "python",
   "nbconvert_exporter": "python",
   "pygments_lexer": "ipython3",
   "version": "3.8.5"
  }
 },
 "nbformat": 4,
 "nbformat_minor": 5
}
