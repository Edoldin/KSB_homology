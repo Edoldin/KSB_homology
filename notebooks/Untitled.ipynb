{
 "cells": [
  {
   "cell_type": "code",
   "execution_count": 16,
   "id": "champion-cambridge",
   "metadata": {},
   "outputs": [],
   "source": [
    "#use this to have access to ksb_homology after setting up the library\n",
    "#import sys\n",
    "#sys.path.append('../')\n",
    "#sys.path.append()\n",
    "#C:\\\\Python38\\\\lib\\\\site-packages\\\\win32\n",
    "#'C:\\\\Python38\\\\lib\\\\site-packages\\\\win32\\\\lib'\n",
    "#'C:\\\\Python38\\\\lib\\\\site-packages\\\\Pythonwin'"
   ]
  },
  {
   "cell_type": "code",
   "execution_count": 17,
   "id": "suitable-facility",
   "metadata": {},
   "outputs": [
    {
     "name": "stdout",
     "output_type": "stream",
     "text": [
      "False False\n"
     ]
    }
   ],
   "source": [
    "from ksb_homology.BurnsideCube import BurnsideCube\n",
    "\n",
    "a=BurnsideCube((1,2,4))\n",
    "print(a.get_size((1,2)), False)"
   ]
  },
  {
   "cell_type": "code",
   "execution_count": 3,
   "id": "expanded-style",
   "metadata": {},
   "outputs": [
    {
     "name": "stdout",
     "output_type": "stream",
     "text": [
      "1\n"
     ]
    }
   ],
   "source": [
    "print(1)"
   ]
  },
  {
   "cell_type": "code",
   "execution_count": null,
   "id": "czech-plasma",
   "metadata": {},
   "outputs": [],
   "source": []
  }
 ],
 "metadata": {
  "kernelspec": {
   "display_name": "Python 3",
   "language": "python",
   "name": "python3"
  },
  "language_info": {
   "codemirror_mode": {
    "name": "ipython",
    "version": 3
   },
   "file_extension": ".py",
   "mimetype": "text/x-python",
   "name": "python",
   "nbconvert_exporter": "python",
   "pygments_lexer": "ipython3",
   "version": "3.8.5"
  }
 },
 "nbformat": 4,
 "nbformat_minor": 5
}
